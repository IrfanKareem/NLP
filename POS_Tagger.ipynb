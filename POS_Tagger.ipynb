{
 "cells": [
  {
   "cell_type": "code",
   "execution_count": 1,
   "metadata": {},
   "outputs": [],
   "source": [
    "import nltk"
   ]
  },
  {
   "cell_type": "code",
   "execution_count": 2,
   "metadata": {},
   "outputs": [],
   "source": [
    "import sys\n",
    "from nltk.corpus import brown\n",
    "from nltk.corpus import treebank"
   ]
  },
  {
   "cell_type": "code",
   "execution_count": 3,
   "metadata": {},
   "outputs": [
    {
     "name": "stdout",
     "output_type": "stream",
     "text": [
      "[('The', 'DT'), ('plant', 'NN'), (',', ','), ('which', 'WDT'), ('*T*-1', '-NONE-'), ('is', 'VBZ'), ('owned', 'VBN'), ('*-4', '-NONE-'), ('by', 'IN'), ('Hollingsworth', 'NNP'), ('&', 'CC'), ('Vose', 'NNP'), ('Co.', 'NNP'), (',', ','), ('was', 'VBD'), ('under', 'IN'), ('contract', 'NN'), ('*ICH*-2', '-NONE-'), ('with', 'IN'), ('Lorillard', 'NN'), ('*', '-NONE-'), ('to', 'TO'), ('make', 'VB'), ('the', 'DT'), ('cigarette', 'NN'), ('filters', 'NNS'), ('.', '.')]\n"
     ]
    }
   ],
   "source": [
    "train_data = treebank.tagged_sents()[:3000]\n",
    "\n",
    "print (train_data[20])"
   ]
  },
  {
   "cell_type": "code",
   "execution_count": 4,
   "metadata": {},
   "outputs": [],
   "source": [
    "from nltk import word_tokenize"
   ]
  },
  {
   "cell_type": "code",
   "execution_count": 5,
   "metadata": {},
   "outputs": [],
   "source": [
    "text = word_tokenize(\"i fly kite in lahore\")"
   ]
  },
  {
   "cell_type": "code",
   "execution_count": 6,
   "metadata": {},
   "outputs": [
    {
     "data": {
      "text/plain": [
       "[('i', 'NN'), ('fly', 'VBP'), ('kite', 'NN'), ('in', 'IN'), ('lahore', 'NN')]"
      ]
     },
     "execution_count": 6,
     "metadata": {},
     "output_type": "execute_result"
    }
   ],
   "source": [
    "nltk.pos_tag(text)"
   ]
  },
  {
   "cell_type": "code",
   "execution_count": 7,
   "metadata": {},
   "outputs": [],
   "source": [
    "from nltk.tag import hmm"
   ]
  },
  {
   "cell_type": "code",
   "execution_count": 9,
   "metadata": {},
   "outputs": [],
   "source": [
    "trainer = hmm.HiddenMarkovModelTrainer()\n",
    "tagger = trainer.train_supervised(train_data)"
   ]
  },
  {
   "cell_type": "code",
   "execution_count": 10,
   "metadata": {},
   "outputs": [
    {
     "name": "stdout",
     "output_type": "stream",
     "text": [
      "<HiddenMarkovModelTagger 46 states and 10779 output symbols>\n"
     ]
    }
   ],
   "source": [
    "print (tagger)"
   ]
  },
  {
   "cell_type": "code",
   "execution_count": 11,
   "metadata": {},
   "outputs": [
    {
     "name": "stdout",
     "output_type": "stream",
     "text": [
      "[('i', 'NNP'), ('fly', 'NNP'), ('kite', 'NNP'), ('in', 'NNP'), ('lahore', 'NNP'), ('.', 'NNP')]\n"
     ]
    }
   ],
   "source": [
    "tags = tagger.tag(\"i fly kite in lahore .\".split())\n",
    "print(tags)"
   ]
  },
  {
   "cell_type": "code",
   "execution_count": null,
   "metadata": {},
   "outputs": [],
   "source": []
  }
 ],
 "metadata": {
  "kernelspec": {
   "display_name": "Python 3",
   "language": "python",
   "name": "python3"
  },
  "language_info": {
   "codemirror_mode": {
    "name": "ipython",
    "version": 3
   },
   "file_extension": ".py",
   "mimetype": "text/x-python",
   "name": "python",
   "nbconvert_exporter": "python",
   "pygments_lexer": "ipython3",
   "version": "3.6.5"
  }
 },
 "nbformat": 4,
 "nbformat_minor": 2
}
